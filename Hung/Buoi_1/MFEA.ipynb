{
  "nbformat": 4,
  "nbformat_minor": 0,
  "metadata": {
    "colab": {
      "provenance": []
    },
    "kernelspec": {
      "name": "python3",
      "display_name": "Python 3"
    },
    "language_info": {
      "name": "python"
    }
  },
  "cells": [
    {
      "cell_type": "markdown",
      "source": [
        "\n",
        "\n",
        "\n",
        "\n",
        "\n",
        "**Below is a problem that uses multitask evolution to solve two separate problems simultaneously. Each problem needs to find the shortest path starting from point 0, going through the remaining points and returning to point 0. The graphs of these two problems are separate.**\n"
      ],
      "metadata": {
        "id": "6wBwf2JRTdZG"
      }
    },
    {
      "cell_type": "markdown",
      "source": [
        "\n",
        "The algorithm starts by creating two weight matrices for two problems."
      ],
      "metadata": {
        "id": "ffD4z_cGUYHP"
      }
    },
    {
      "cell_type": "code",
      "source": [
        "import numpy as np\n",
        "\n",
        "num_vertices = 50\n",
        "\n",
        "\n",
        "weight_matrix_1 = np.random.randint(1, 10, size=(num_vertices, num_vertices))\n",
        "\n",
        "np.fill_diagonal(weight_matrix_1, 0)\n",
        "\n",
        "weight_matrix_2 = np.random.randint(1, 10, size=(num_vertices, num_vertices))\n",
        "\n",
        "np.fill_diagonal(weight_matrix_2, 0)\n",
        "\n",
        "print(weight_matrix_1)\n",
        "print(weight_matrix_2)\n"
      ],
      "metadata": {
        "colab": {
          "base_uri": "https://localhost:8080/"
        },
        "id": "kyJ8bNiPDbKq",
        "outputId": "87081b04-d052-4f70-98b6-9ffbe8972363"
      },
      "execution_count": null,
      "outputs": [
        {
          "output_type": "stream",
          "name": "stdout",
          "text": [
            "[[0 8 8 ... 8 6 8]\n",
            " [8 0 2 ... 2 7 9]\n",
            " [2 3 0 ... 5 1 8]\n",
            " ...\n",
            " [4 1 8 ... 0 3 1]\n",
            " [7 5 3 ... 6 0 6]\n",
            " [8 6 6 ... 3 7 0]]\n",
            "[[0 7 6 ... 1 9 2]\n",
            " [6 0 8 ... 5 9 1]\n",
            " [1 7 0 ... 8 4 8]\n",
            " ...\n",
            " [2 5 8 ... 0 7 4]\n",
            " [7 9 2 ... 1 0 5]\n",
            " [9 8 3 ... 2 9 0]]\n"
          ]
        }
      ]
    },
    {
      "cell_type": "code",
      "source": [
        "# decode function\n",
        "def decode(p):\n",
        "    return np.argsort(p)"
      ],
      "metadata": {
        "id": "xfDUWS74GKSr"
      },
      "execution_count": null,
      "outputs": []
    },
    {
      "cell_type": "code",
      "source": [
        "# Function that calculates the cost of the solution\n",
        "def cost(population,matrix):\n",
        "    result = []\n",
        "    for x in population:\n",
        "        total_cost = 0\n",
        "        total_cost+=matrix[0][x[0]]\n",
        "        for i in range(48):\n",
        "          total_cost+=matrix[x[i]][x[i+1]]\n",
        "        total_cost+=matrix[x[48]][0]\n",
        "        result.append(total_cost)\n",
        "    return np.array(result)"
      ],
      "metadata": {
        "id": "-fc1TKgxFy2T"
      },
      "execution_count": null,
      "outputs": []
    },
    {
      "cell_type": "code",
      "source": [
        "def rank(population,matrix):\n",
        "    return np.argsort(np.argsort(cost(population,matrix)))"
      ],
      "metadata": {
        "id": "qiJlq4kDI1JS"
      },
      "execution_count": null,
      "outputs": []
    },
    {
      "cell_type": "markdown",
      "source": [
        "Initialize the population,calculate skill factor."
      ],
      "metadata": {
        "id": "Q6_ZRwSsUuKE"
      }
    },
    {
      "cell_type": "code",
      "source": [
        "def init():\n",
        "    cur_pop = np.array([np.random.permutation(49) + 1 for _ in range(50)])\n",
        "    rank_1 = rank(cur_pop,weight_matrix_1)\n",
        "    rank_2 = rank(cur_pop,weight_matrix_2)\n",
        "    skill_factor = []\n",
        "    for i in range(50):\n",
        "        if rank_1[i] < rank_2[i]:\n",
        "            skill_factor.append(0)\n",
        "        else:\n",
        "            skill_factor.append(1)\n",
        "    return cur_pop, np.array(skill_factor)"
      ],
      "metadata": {
        "id": "tHvyqWXOFMwh"
      },
      "execution_count": null,
      "outputs": []
    },
    {
      "cell_type": "markdown",
      "source": [
        "Hybrid function and mutation in a population."
      ],
      "metadata": {
        "id": "8c2hLlY2U-zN"
      }
    },
    {
      "cell_type": "code",
      "source": [
        "import numpy as np\n",
        "\n",
        "rmp = 0.3\n",
        "\n",
        "def assortative_mating(cur_pop, skill_factor):\n",
        "    offsprings = []\n",
        "    offsprings_skill_factor = []\n",
        "    for i in range(25):\n",
        "        rnd = np.random.rand(1)[0]\n",
        "        random_indices = np.random.choice(np.arange(len(cur_pop)), size=2, replace=False)\n",
        "        if skill_factor[random_indices[0]] == skill_factor[random_indices[1]] or rnd < rmp:\n",
        "            offspring = cur_pop[random_indices[0]][:20]\n",
        "            for j in range(20,49):\n",
        "              if cur_pop[random_indices[1]][j] not in offspring:\n",
        "                offspring=np.append( offspring,cur_pop[random_indices[1]][j])\n",
        "            for j in range(0,20):\n",
        "              if cur_pop[random_indices[1]][j] not in offspring:\n",
        "                offspring=np.append( offspring,cur_pop[random_indices[1]][j])\n",
        "            offsprings.append(offspring)\n",
        "            random_skill_factor = np.random.rand(1)[0]\n",
        "            if random_skill_factor < 0.5:\n",
        "                offsprings_skill_factor.append(skill_factor[random_indices[0]])\n",
        "            else:\n",
        "                offsprings_skill_factor.append(skill_factor[random_indices[1]])\n",
        "        else:\n",
        "            random_numbers = np.random.choice(np.arange(0, 49), size=2, replace=False)\n",
        "            offspring0 = cur_pop[random_indices[0]].copy()\n",
        "            offspring1 = cur_pop[random_indices[1]].copy()\n",
        "            k0=offspring0[random_numbers[0]]\n",
        "            offspring0[random_numbers[0]] = offspring0[random_numbers[1]]\n",
        "            offspring0[random_numbers[1]] =k0\n",
        "            k1=offspring1[random_numbers[0]]\n",
        "            offspring1[random_numbers[0]] = offspring1[random_numbers[1]]\n",
        "            offspring1[random_numbers[1]] =k1\n",
        "            offsprings.append(offspring0)\n",
        "            offsprings_skill_factor.append(skill_factor[random_indices[0]])\n",
        "            offsprings.append(offspring1)\n",
        "            offsprings_skill_factor.append(skill_factor[random_indices[1]])\n",
        "    return np.array(offsprings), np.array(offsprings_skill_factor)"
      ],
      "metadata": {
        "id": "QbAalLe5Jgjw"
      },
      "execution_count": null,
      "outputs": []
    },
    {
      "cell_type": "markdown",
      "source": [
        "Function update scalar fitness."
      ],
      "metadata": {
        "id": "MtCoB2Y8VRdM"
      }
    },
    {
      "cell_type": "code",
      "source": [
        "def update_scalar_fitness(p, s):\n",
        "    matrix1_pop = p[np.where(s == 0)[0]]\n",
        "    rank_matrix1 = rank(matrix1_pop,weight_matrix_1)\n",
        "    scalar_fitness_matrix1 = [1/(i+1) for i in rank_matrix1]\n",
        "\n",
        "    matrix2_pop = p[np.where(s == 1)[0]]\n",
        "    rank_matrix2 = rank(matrix2_pop,weight_matrix_2)\n",
        "    scalar_fitness_matrix2 = [1/(i+1) for i in rank_matrix2]\n",
        "    scalar_fitness = np.random.rand(p.shape[0])\n",
        "    scalar_fitness[np.where(s == 0)[0]] = scalar_fitness_matrix1\n",
        "    scalar_fitness[np.where(s == 1)[0]] = scalar_fitness_matrix2\n",
        "    filter_indices = np.argsort(scalar_fitness)[:25]\n",
        "    fittest_pop = np.delete(p, filter_indices, axis=0)\n",
        "    fittest_skill_factor = np.delete(s, filter_indices)\n",
        "    return fittest_pop, fittest_skill_factor\n"
      ],
      "metadata": {
        "id": "ZmEeJW-uJvyw"
      },
      "execution_count": null,
      "outputs": []
    },
    {
      "cell_type": "code",
      "source": [
        "def main():\n",
        "    cur_pop, skill_factor = init()\n",
        "    generation = 1\n",
        "    for i in range(generation):\n",
        "        offspring_pop, offspring_skill_factor = assortative_mating(cur_pop, skill_factor)\n",
        "        intermediate_pop = np.vstack((cur_pop, offspring_pop))\n",
        "        intermediate_skill_factor = np.concatenate((skill_factor, offspring_skill_factor))\n",
        "        cur_pop, skill_factor = update_scalar_fitness(intermediate_pop, intermediate_skill_factor)\n",
        "        matrix1_pop = cur_pop[np.where(skill_factor == 0)[0]]\n",
        "        matrix2_pop = cur_pop[np.where(skill_factor == 1)[0]]\n",
        "    print(\"Matrix1: \", cost(matrix1_pop,weight_matrix_1).min())\n",
        "    print(\"Matrix2: \", cost(matrix2_pop,weight_matrix_2).min())"
      ],
      "metadata": {
        "id": "jfzbjUqvJ_B2"
      },
      "execution_count": null,
      "outputs": []
    },
    {
      "cell_type": "code",
      "source": [
        "main()"
      ],
      "metadata": {
        "colab": {
          "base_uri": "https://localhost:8080/"
        },
        "id": "O0MsxyuIKZB_",
        "outputId": "6b15b36c-6e4d-4cab-8fab-0ddecccef180"
      },
      "execution_count": null,
      "outputs": [
        {
          "output_type": "stream",
          "name": "stdout",
          "text": [
            "Matrix1:  202\n",
            "Matrix2:  204\n"
          ]
        }
      ]
    },
    {
      "cell_type": "markdown",
      "source": [
        "Reference document: [Abhishek Gupta, Yew-Soon Ong, and Liang Feng -\n",
        " Multifactorial Evolution: Towards Evolutionary Multitasking](https://ieeexplore.ieee.org/abstract/document/7161358)"
      ],
      "metadata": {
        "id": "b-SS-ZbtVb10"
      }
    }
  ]
}