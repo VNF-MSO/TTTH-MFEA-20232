{
  "nbformat": 4,
  "nbformat_minor": 0,
  "metadata": {
    "colab": {
      "provenance": []
    },
    "kernelspec": {
      "name": "python3",
      "display_name": "Python 3"
    },
    "language_info": {
      "name": "python"
    }
  },
  "cells": [
    {
      "cell_type": "code",
      "execution_count": null,
      "metadata": {
        "id": "dh6Fxylsiiet"
      },
      "outputs": [],
      "source": [
        "import numpy as np\n",
        "import random"
      ]
    },
    {
      "cell_type": "code",
      "source": [
        "population_size=1200\n",
        "dimension_Etask=50\n",
        "dimension_Ctask1=35\n",
        "dimension_Ctask2=25\n",
        "dimension_Ctask3=50\n",
        "dimension_max=50\n",
        "shift_Etask=np.concatenate((np.full(25, 10), np.zeros(25)))\n",
        "shift_Ctask1=np.full(35, 10)\n",
        "shift_Ctask2=np.full(25, 0)\n",
        "shift_Ctask3=np.random.uniform(0, 10, size=50)"
      ],
      "metadata": {
        "id": "Jg7n77PGk1AK"
      },
      "execution_count": null,
      "outputs": []
    },
    {
      "cell_type": "code",
      "source": [
        "frequence_translate=0\n",
        "threshold=0\n",
        "maxgen=1200\n",
        "cp=np.full(dimension_max, 0.5)\n",
        "sf=1.25\n"
      ],
      "metadata": {
        "id": "RHIC7YHx4Wsa"
      },
      "execution_count": null,
      "outputs": []
    },
    {
      "cell_type": "code",
      "source": [
        "def rosenbrock(x):\n",
        "    f = 0\n",
        "\n",
        "    for i in range(len(x) - 1):\n",
        "        f += 100 * (x[i+1] - x[i]**2)**2 + (1 - x[i])**2\n",
        "    return f\n",
        "def rastrigin(x):\n",
        "\n",
        "    n = len(x)\n",
        "    A = 10\n",
        "    f = A * n\n",
        "    for i in range(n):\n",
        "        f += x[i]**2 - A * np.cos(2 * np.pi * x[i])\n",
        "    return f\n",
        "def E_Task(x,o):\n",
        "  x=x[:dimension_Etask]\n",
        "  return rosenbrock(x[25:]-o[25:])+rastrigin(x[:25]-o[:25])\n",
        "def C_Task1(x,o):\n",
        "    x=x[:dimension_Ctask1]\n",
        "    n = len(x)\n",
        "    sum_term = np.sum((x-o)**2) / 4000\n",
        "    prod_term = np.prod(np.cos((x-o) / np.sqrt(np.arange(1, n + 1))))\n",
        "    return sum_term - prod_term + 1\n",
        "def C_Task2(x,shift):\n",
        "    x=x[:dimension_Ctask2]\n",
        "    n = len(x)\n",
        "    sum_sq_term = -0.2 * np.sqrt((1/n) * np.sum((x - shift) ** 2))\n",
        "    cos_term = np.sum(np.cos(2 * np.pi * (x - shift)))\n",
        "    return -20 * np.exp(sum_sq_term) - np.exp((1/n) * cos_term) + 20 + np.exp(1)\n",
        "\n",
        "def C_Task3(x,o):\n",
        "    x=x[:dimension_Ctask3]\n",
        "    return np.sum((x-o)**2)"
      ],
      "metadata": {
        "id": "t0BI-07coxP2"
      },
      "execution_count": null,
      "outputs": []
    },
    {
      "cell_type": "code",
      "source": [
        "def initialize_population(population_size, dimension_max):\n",
        "    return np.random.uniform(0, 1, size=(population_size, dimension_max))"
      ],
      "metadata": {
        "id": "RAxRJxY7wrTS"
      },
      "execution_count": null,
      "outputs": []
    },
    {
      "cell_type": "code",
      "source": [
        "def cost_Ctask1(population):\n",
        "    result = []\n",
        "    for x in population:\n",
        "      result.append(C_Task1(x*100-50,shift_Ctask1));\n",
        "    return np.array(result)\n",
        "def cost_Ctask2(population):\n",
        "    result = []\n",
        "    for x in population:\n",
        "      result.append(C_Task2(x*10-5,shift_Ctask2));\n",
        "    return np.array(result)\n",
        "def cost_Ctask3(population):\n",
        "    result = []\n",
        "    for x in population:\n",
        "      result.append(C_Task3(x*100-50,shift_Ctask3));\n",
        "    return np.array(result)\n",
        "def cost_Etask(population):\n",
        "    result = []\n",
        "    for x in population:\n",
        "      result.append(E_Task(x*100-50,shift_Etask));\n",
        "    return np.array(result)"
      ],
      "metadata": {
        "id": "ggdXs5zWzFg2"
      },
      "execution_count": null,
      "outputs": []
    },
    {
      "cell_type": "code",
      "source": [
        "def rank_Ctask1(population):\n",
        "    return np.argsort(np.argsort(cost_Ctask1(population)))\n",
        "def rank_Ctask2(population):\n",
        "    return np.argsort(np.argsort(cost_Ctask2(population)))\n",
        "def rank_Ctask3(population):\n",
        "    return np.argsort(np.argsort(cost_Ctask3(population)))\n",
        "def rank_Etask(population):\n",
        "    return np.argsort(np.argsort(cost_Etask(population)))"
      ],
      "metadata": {
        "id": "6Ji-BFt60qs-"
      },
      "execution_count": null,
      "outputs": []
    },
    {
      "cell_type": "code",
      "source": [
        "def evalution(population):\n",
        "  rank_1=rank_Ctask1(population)\n",
        "  rank_2=rank_Ctask2(population)\n",
        "  rank_3=rank_Ctask3(population)\n",
        "  rank_e=rank_Etask(population)\n",
        "  skill_factor=[];\n",
        "  for i in range(population_size):\n",
        "        if (rank_1[i] <= rank_2[i] and rank_1[i]<=rank_3[i] and rank_1[i]<=rank_e[i]):\n",
        "            skill_factor.append(1)\n",
        "        elif(rank_2[i] <= rank_1[i] and rank_2[i]<=rank_3[i] and rank_2[i]<=rank_e[i]):\n",
        "            skill_factor.append(2)\n",
        "        elif(rank_3[i] <= rank_1[i] and rank_3[i]<=rank_2[i] and rank_3[i]<=rank_e[i]):\n",
        "            skill_factor.append(3)\n",
        "        elif(rank_e[i] <= rank_1[i] and rank_e[i]<=rank_2[i] and rank_e[i]<=rank_3[i]):\n",
        "            skill_factor.append(4)\n",
        "  return np.array(skill_factor)"
      ],
      "metadata": {
        "id": "UBrigX4N12ZE"
      },
      "execution_count": null,
      "outputs": []
    },
    {
      "cell_type": "code",
      "source": [
        "def crossover(parent1, parent2):\n",
        "    cf=random.random()\n",
        "    child1 =0.5*( parent1 * (1+cf) + parent2 * (1 - cf))\n",
        "    child2 =0.5*( parent2 * (1+cf) + parent1 * (1 - cf))\n",
        "    return child1, child2"
      ],
      "metadata": {
        "id": "j83wz_3x3eFa"
      },
      "execution_count": null,
      "outputs": []
    },
    {
      "cell_type": "code",
      "source": [
        "def mutation(individual, mutation_rate, mutation_scale):\n",
        "    mutated_individual = individual.copy()\n",
        "    for i in range(len(mutated_individual)):\n",
        "        if (np.random.rand() < mutation_rate ):\n",
        "            mutated_individual[i] += np.random.normal(scale=mutation_scale)\n",
        "    return mutated_individual"
      ],
      "metadata": {
        "id": "Ts6Abgtv3f1Z"
      },
      "execution_count": null,
      "outputs": []
    },
    {
      "cell_type": "code",
      "source": [
        "def get_m_k_Ctask1(population):\n",
        "  Ctask1_values = cost_Ctask1(population)\n",
        "  sorted_indices = np.argsort(Ctask1_values)\n",
        "  num_elements = int(population_size * 0.4)\n",
        "  selected_indices = sorted_indices[:num_elements]\n",
        "  selected_points = population[selected_indices]\n",
        "  return np.sum(selected_points, axis=0)/num_elements\n",
        "def get_m_k_Ctask2(population):\n",
        "  Ctask2_values = cost_Ctask2(population)\n",
        "  sorted_indices = np.argsort(Ctask2_values)\n",
        "  num_elements = int(population_size * 0.4)\n",
        "  selected_indices = sorted_indices[:num_elements]\n",
        "  selected_points = population[selected_indices]\n",
        "  return np.sum(selected_points, axis=0)/num_elements\n",
        "def get_m_k_Ctask3(population):\n",
        "  Ctask3_values = cost_Ctask3(population)\n",
        "  sorted_indices = np.argsort(Ctask3_values)\n",
        "  num_elements = int(population_size * 0.4)\n",
        "  selected_indices = sorted_indices[:num_elements]\n",
        "  selected_points = population[selected_indices]\n",
        "  return np.sum(selected_points, axis=0)/num_elements\n",
        "def get_m_k_Etask(population):\n",
        "  Etask_values = cost_Etask(population)\n",
        "  sorted_indices = np.argsort(Etask_values)\n",
        "  num_elements = int(population_size * 0.4)\n",
        "  selected_indices = sorted_indices[:num_elements]\n",
        "  selected_points = population[selected_indices]\n",
        "  return np.sum(selected_points, axis=0)/num_elements"
      ],
      "metadata": {
        "id": "MhF-Q7-e3jza"
      },
      "execution_count": null,
      "outputs": []
    },
    {
      "cell_type": "code",
      "source": [
        "def translate(gen, maxgen, population,frequency,threshold,skill_factor,d_k_Ctask1,d_k_Ctask2,d_k_Ctask3,d_k_Etask):\n",
        "  NP=population.shape[0]\n",
        "  population_=[]\n",
        "  if(gen>threshold):\n",
        "    if(gen%frequency==0):\n",
        "      alpha=(gen/maxgen)*(gen/maxgen)\n",
        "      d_k_Ctask1=sf*alpha*(cp-get_m_k_Ctask1(population))\n",
        "      d_k_Ctask2=sf*alpha*(cp-get_m_k_Ctask2(population))\n",
        "      d_k_Ctask3=sf*alpha*(cp-get_m_k_Ctask3(population))\n",
        "      d_k_Etask=sf*alpha*(cp-get_m_k_Etask(population))\n",
        "    for i in range(NP):\n",
        "      if(skill_factor[i]==1):\n",
        "        p_=population[i]+d_k_Ctask1\n",
        "      elif(skill_factor[i]==2):\n",
        "        p_=population[i]+d_k_Ctask2\n",
        "      elif(skill_factor[i]==3):\n",
        "        p_=population[i]+d_k_Ctask3\n",
        "      elif(skill_factor[i]==4):\n",
        "        p_=population[i]+d_k_Etask\n",
        "      population_.append(p_)\n",
        "  else:\n",
        "    population_=population\n",
        "  return population_,d_k_Ctask1,d_k_Ctask2,d_k_Ctask3,d_k_Etask"
      ],
      "metadata": {
        "id": "vrWxelTV4CMS"
      },
      "execution_count": null,
      "outputs": []
    },
    {
      "cell_type": "code",
      "source": [
        "def shuffle(parent1_,parent2_,population_,skill_factor, skill_factor_1,skill_factor_2):\n",
        "  D1=len(parent1_)\n",
        "  D2=len(parent2_)\n",
        "  Dmax=max(D1,D2)\n",
        "  l1=[i for i in range(0, Dmax)]\n",
        "  l2=[i for i in range(0, Dmax)]\n",
        "  if D1<D2:\n",
        "    random.shuffle(l1)\n",
        "    p_=population_[skill_factor.index(skill_factor_2)]\n",
        "    for i in range(D1):\n",
        "      p_[l1[i]]=parent1_[i]\n",
        "    return p_,parent2_,l1,l2\n",
        "  elif D1>D2:\n",
        "    random.shuffle(l2)\n",
        "    p_=population_[skill_factor.index(skill_factor_1)]\n",
        "    for i in range(D2):\n",
        "      p_[l2[i]]=parent2_[i]\n",
        "    return parent1_,p_,l1,l2\n",
        "  else:\n",
        "    return parent1_,parent2_,l1,l2"
      ],
      "metadata": {
        "id": "p2LBT3yb5Gv5"
      },
      "execution_count": null,
      "outputs": []
    },
    {
      "cell_type": "code",
      "source": [
        "def re_transfer(o1__,o2__,l1,l2,len1,len2):\n",
        "  if len1>len2:\n",
        "    o2_=[None]*len2\n",
        "    for i in range(len(l1)):\n",
        "      o2_[l2[i]]=o2__[i]\n",
        "    return o1__,o2_\n",
        "  elif len1<len2:\n",
        "    o1_=[None]*len1\n",
        "    for i in range(len(l2)):\n",
        "      o1_[l1[i]]=o1__[i]\n",
        "    return o1_,o2__\n",
        "  else:\n",
        "    return o1__,o2__"
      ],
      "metadata": {
        "id": "BXXbNw8Ifk_I"
      },
      "execution_count": null,
      "outputs": []
    },
    {
      "cell_type": "code",
      "source": [
        "def assortative_mating(p1,p2, skill_factor1,skill_factor2):\n",
        "    rmp=0.3\n",
        "    rnd = np.random.rand(1)[0]\n",
        "    if skill_factor1== skill_factor2 or rnd < rmp:\n",
        "      o1,o2=crossover(p1,p2);\n",
        "      random_skill_factor = np.random.rand(1)[0]\n",
        "      if random_skill_factor < 0.5:\n",
        "        return o1,o2,skill_factor1,skill_factor1\n",
        "      else:\n",
        "        return o1,o2,skill_factor2,skill_factor2\n",
        "    else:\n",
        "        o1= p1.copy()\n",
        "        o2 = p2.copy()\n",
        "        o1=mutation(o1,0.1,0.1);\n",
        "        o2=mutation(o2,0.1,0.1);\n",
        "        return o1,o2,skill_factor1,skill_factor2"
      ],
      "metadata": {
        "id": "YttBGvV1gF1R"
      },
      "execution_count": null,
      "outputs": []
    },
    {
      "cell_type": "code",
      "source": [
        "def update_scalar_fitness(population, s):\n",
        "    Ctask1_pop = population[np.where(s == 1)[0]]\n",
        "    rank1 = rank_Ctask1(Ctask1_pop)\n",
        "    scalar_fitness_Ctask1 = [1/(i+1) for i in rank1]\n",
        "\n",
        "    Ctask2_pop = population[np.where(s == 2)[0]]\n",
        "    rank2 = rank_Ctask2(Ctask2_pop)\n",
        "    scalar_fitness_Ctask2 = [1/(i+1) for i in rank2]\n",
        "\n",
        "    Ctask3_pop = population[np.where(s == 3)[0]]\n",
        "    rank3 = rank_Ctask3(Ctask3_pop)\n",
        "    scalar_fitness_Ctask3 = [1/(i+1) for i in rank3]\n",
        "\n",
        "    Etask_pop = population[np.where(s == 4)[0]]\n",
        "    rank4 = rank_Etask(Etask_pop)\n",
        "    scalar_fitness_Etask = [1/(i+1) for i in rank4]\n",
        "\n",
        "    scalar_fitness = np.random.rand(population.shape[0])\n",
        "    scalar_fitness[np.where(s == 1)[0]] = scalar_fitness_Ctask1\n",
        "    scalar_fitness[np.where(s == 2)[0]] = scalar_fitness_Ctask2\n",
        "    scalar_fitness[np.where(s == 3)[0]] = scalar_fitness_Ctask3\n",
        "    scalar_fitness[np.where(s == 4)[0]] = scalar_fitness_Etask\n",
        "\n",
        "    resize=len(scalar_fitness)-population_size\n",
        "    filter_indices = np.argsort(scalar_fitness)[:resize]\n",
        "    fittest_pop = np.delete(population, filter_indices, axis=0)\n",
        "    fittest_skill_factor = np.delete(s, filter_indices)\n",
        "    return fittest_pop, fittest_skill_factor"
      ],
      "metadata": {
        "id": "8q330QeNgb8g"
      },
      "execution_count": null,
      "outputs": []
    },
    {
      "cell_type": "code",
      "source": [
        "def GMFEAs(NP):\n",
        "  population_=[]\n",
        "  d_k_Ctask1=0\n",
        "  d_k_Ctask2=0;\n",
        "  d_k_Ctask3=0;\n",
        "  d_k_Etask=0;\n",
        "\n",
        "  frequency=int(0.02*maxgen)\n",
        "  threshold=int(0.1*maxgen)\n",
        "  population=initialize_population(NP,dimension_max)\n",
        "  skill_factor=evalution(population)\n",
        "  for i in range(maxgen):\n",
        "    population_,d_k_Ctask1,d_k_Ctask2,d_k_Ctask3,d_k_Etask=translate(i+1,maxgen,population,frequency,threshold,skill_factor,d_k_Ctask1,d_k_Ctask2,d_k_Ctask3,d_k_Etask)\n",
        "    offspring=[]\n",
        "    skill_factor_offspring=[]\n",
        "    for j in range(int(NP/2)):\n",
        "       random_indices = np.random.choice(np.arange(len(population_)), size=2, replace=False)\n",
        "       p1_,p2_=population_[random_indices[0]],population_[random_indices[1]]\n",
        "       p1__,p2__,l1,l2=shuffle(p1_,p2_,population_,skill_factor,skill_factor[random_indices[0]],skill_factor[random_indices[1]])\n",
        "       o1__,o2__,skill_factor1,skill_factor2=assortative_mating(p1__,p2__,skill_factor[random_indices[0]],skill_factor[random_indices[1]])\n",
        "       o1_,o2_=re_transfer(o1__,o2__,l1,l2,len(p1_),len(p2_))\n",
        "\n",
        "       if(skill_factor1==1):\n",
        "        o1=o1_-d_k_Ctask1\n",
        "       elif(skill_factor1==2):\n",
        "        o1=o1_-d_k_Ctask2\n",
        "       elif(skill_factor1==3):\n",
        "        o1=o1_-d_k_Ctask3\n",
        "       else:\n",
        "        o1=o1_-d_k_Etask\n",
        "\n",
        "       if(skill_factor2==1):\n",
        "        o2=o2_-d_k_Ctask1\n",
        "       elif(skill_factor2==2):\n",
        "        o2=o2_-d_k_Ctask2\n",
        "       elif(skill_factor2==3):\n",
        "        o2=o2_-d_k_Ctask3\n",
        "       else:\n",
        "        o2=o2_-d_k_Etask\n",
        "\n",
        "       offspring.append(o1)\n",
        "       offspring.append(o2)\n",
        "       skill_factor_offspring.append(skill_factor1)\n",
        "       skill_factor_offspring.append(skill_factor2)\n",
        "\n",
        "    intermediate_pop = np.vstack((population, offspring))\n",
        "    intermediate_skill_factor = np.concatenate((skill_factor,skill_factor_offspring))\n",
        "    population, skill_factor = update_scalar_fitness(intermediate_pop, intermediate_skill_factor)\n",
        "\n",
        "  Ctask1_pop = population[np.where(skill_factor == 1)[0]]\n",
        "  Ctask2_pop = population[np.where(skill_factor == 2)[0]]\n",
        "  Ctask3_pop = population[np.where(skill_factor == 3)[0]]\n",
        "  Etask_pop = population[np.where(skill_factor == 4)[0]]\n",
        "\n",
        "  print(\"Ctask1: \", cost_Ctask1(Ctask1_pop).min())\n",
        "  print(\"Ctask2: \", cost_Ctask2(Ctask2_pop).min())\n",
        "  print(\"Ctask3: \", cost_Ctask3(Ctask3_pop).min())\n",
        "  print(\"Etask: \", cost_Etask(Etask_pop).min())"
      ],
      "metadata": {
        "id": "a2lLf49hh3vn"
      },
      "execution_count": null,
      "outputs": []
    },
    {
      "cell_type": "code",
      "source": [
        "GMFEAs(population_size)"
      ],
      "metadata": {
        "colab": {
          "base_uri": "https://localhost:8080/"
        },
        "id": "0WWt3BhVkdAl",
        "outputId": "5c048f31-26dd-41e2-bac3-fb6c6f8b9c9a"
      },
      "execution_count": null,
      "outputs": [
        {
          "output_type": "stream",
          "name": "stdout",
          "text": [
            "Ctask1:  0.050635867979107685\n",
            "Ctask2:  0.016301274336541827\n",
            "Ctask3:  8.439299373385326\n",
            "Etask:  278.5533177809508\n"
          ]
        }
      ]
    }
  ]
}