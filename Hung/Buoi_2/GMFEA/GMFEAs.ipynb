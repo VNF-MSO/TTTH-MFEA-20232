{
  "nbformat": 4,
  "nbformat_minor": 0,
  "metadata": {
    "colab": {
      "provenance": []
    },
    "kernelspec": {
      "name": "python3",
      "display_name": "Python 3"
    },
    "language_info": {
      "name": "python"
    }
  },
  "cells": [
    {
      "cell_type": "code",
      "source": [
        "import numpy as np\n",
        "import random"
      ],
      "metadata": {
        "id": "qCzNtNrWJMSm"
      },
      "execution_count": null,
      "outputs": []
    },
    {
      "cell_type": "code",
      "source": [
        "population_size=100\n",
        "dimension_ackley=5\n",
        "dimension_sphere=10\n",
        "dimension_max=10\n",
        "shift=[random.uniform(-1, 1) for _ in range(dimension_ackley)]"
      ],
      "metadata": {
        "id": "i0Q2yRlERiOT"
      },
      "execution_count": null,
      "outputs": []
    },
    {
      "cell_type": "code",
      "source": [
        "frequence_translate=0\n",
        "threshold=0\n",
        "maxgen=400\n",
        "cp=np.full(dimension_max, 0.5)\n",
        "sf=1.25\n"
      ],
      "metadata": {
        "id": "3LZ5xvV1p2tS"
      },
      "execution_count": null,
      "outputs": []
    },
    {
      "cell_type": "code",
      "source": [
        "def ackley_function(x,shift):\n",
        "    x=x[:dimension_ackley]\n",
        "    n = len(x)\n",
        "    sum_sq_term = -0.2 * np.sqrt((1/n) * np.sum((x - shift) ** 2))\n",
        "    cos_term = np.sum(np.cos(2 * np.pi * (x - shift)))\n",
        "    return -20 * np.exp(sum_sq_term) - np.exp((1/n) * cos_term) + 20 + np.exp(1)\n",
        "\n",
        "def sphere_function(x):\n",
        "    x=x[:dimension_sphere]\n",
        "    return np.sum(x**2)"
      ],
      "metadata": {
        "id": "SrkX2zPKLBo5"
      },
      "execution_count": null,
      "outputs": []
    },
    {
      "cell_type": "code",
      "execution_count": null,
      "metadata": {
        "id": "EiAheZdvF7Ji"
      },
      "outputs": [],
      "source": [
        "def initialize_population(population_size, dimension_max):\n",
        "    return np.random.uniform(-5.12, 5.12, size=(population_size, dimension_max))"
      ]
    },
    {
      "cell_type": "code",
      "source": [
        "def cost_ackley(population):\n",
        "    result = []\n",
        "    for x in population:\n",
        "      result.append(ackley_function(x,shift));\n",
        "    return np.array(result)\n",
        "def cost_sphere(population):\n",
        "    result = []\n",
        "    for x in population:\n",
        "        result.append(sphere_function(x));\n",
        "    return np.array(result)"
      ],
      "metadata": {
        "id": "_-0OfWUiKSfr"
      },
      "execution_count": null,
      "outputs": []
    },
    {
      "cell_type": "code",
      "source": [
        "def rank_ackley(population):\n",
        "    return np.argsort(np.argsort(cost_ackley(population)))\n",
        "def rank_sphere(population):\n",
        "    return np.argsort(np.argsort(cost_sphere(population)))"
      ],
      "metadata": {
        "id": "MJno1D4qUffw"
      },
      "execution_count": null,
      "outputs": []
    },
    {
      "cell_type": "code",
      "source": [
        "def evalution(population):\n",
        "  rank_1=rank_ackley(population)\n",
        "  rank_2=rank_sphere(population)\n",
        "  skill_factor=[];\n",
        "  for i in range(population_size):\n",
        "        if rank_1[i] < rank_2[i]:\n",
        "            skill_factor.append(0)\n",
        "        else:\n",
        "            skill_factor.append(1)\n",
        "  return np.array(skill_factor)"
      ],
      "metadata": {
        "id": "mI1OqF4_WgSG"
      },
      "execution_count": null,
      "outputs": []
    },
    {
      "cell_type": "code",
      "source": [
        "def crossover(parent1, parent2):\n",
        "    cf=random.random()\n",
        "    child1 =0.5*( parent1 * (1+cf) + parent2 * (1 - cf))\n",
        "    child2 =0.5*( parent2 * (1+cf) + parent1 * (1 - cf))\n",
        "    return child1, child2"
      ],
      "metadata": {
        "id": "oXwJpCfiZ9XC"
      },
      "execution_count": null,
      "outputs": []
    },
    {
      "cell_type": "code",
      "source": [
        "def mutation(individual, mutation_rate, mutation_scale):\n",
        "    mutated_individual = individual.copy()\n",
        "    for i in range(len(mutated_individual)):\n",
        "        if (np.random.rand() < mutation_rate ):\n",
        "            mutated_individual[i] += np.random.normal(scale=mutation_scale)\n",
        "    return mutated_individual\n"
      ],
      "metadata": {
        "id": "YajcZsgZaKsh"
      },
      "execution_count": null,
      "outputs": []
    },
    {
      "cell_type": "code",
      "source": [
        "def get_m_k_sphere(population):\n",
        "  sphere_values = cost_sphere(population)\n",
        "  sorted_indices = np.argsort(sphere_values)\n",
        "  num_elements = int(population_size * 0.4)\n",
        "  selected_indices = sorted_indices[:num_elements]\n",
        "  selected_points = population[selected_indices]\n",
        "  return np.sum(selected_points, axis=0)/num_elements\n",
        "def get_m_k_ackley(population):\n",
        "  ackley_values = cost_ackley(population)\n",
        "  sorted_indices = np.argsort(ackley_values)\n",
        "  num_elements = int(population_size * 0.4)\n",
        "  selected_indices = sorted_indices[:num_elements]\n",
        "  selected_points = population[selected_indices]\n",
        "  return np.sum(selected_points, axis=0)/num_elements"
      ],
      "metadata": {
        "id": "2G84vuve7YAL"
      },
      "execution_count": null,
      "outputs": []
    },
    {
      "cell_type": "code",
      "source": [
        "def translate(gen, maxgen, population,frequency,threshold,skill_factor,d_k_ackley,d_k_sphere):\n",
        "  NP=population.shape[0]\n",
        "  population_=[]\n",
        "  if(gen>threshold):\n",
        "    if(gen%frequency==0):\n",
        "      alpha=(gen/maxgen)*(gen/maxgen)\n",
        "      d_k_ackley=sf*alpha*(cp-get_m_k_ackley(population))\n",
        "      d_k_sphere=sf*alpha*(cp-get_m_k_sphere(population))\n",
        "    for i in range(NP):\n",
        "      if(skill_factor[i]==0):\n",
        "        p_=population[i]+d_k_ackley\n",
        "      else:\n",
        "        p_=population[i]+d_k_sphere\n",
        "      population_.append(p_)\n",
        "  else:\n",
        "    population_=population\n",
        "  return population_,d_k_ackley,d_k_sphere"
      ],
      "metadata": {
        "id": "y5AxpuyNr1--"
      },
      "execution_count": null,
      "outputs": []
    },
    {
      "cell_type": "code",
      "source": [
        "def shuffle(parent1_,parent2_,population_,skill_factor,skill_factor_1,skill_factor_2):\n",
        "  D1=len(parent1_)\n",
        "  D2=len(parent2_)\n",
        "  Dmax=max(D1,D2)\n",
        "  l1=[i for i in range(0, Dmax)]\n",
        "  l2=[i for i in range(0, Dmax)]\n",
        "  if D1<D2:\n",
        "    random.shuffle(l1)\n",
        "    p_=population_[skill_factor.index(skill_factor_2)]\n",
        "    for i in range(D1):\n",
        "      p_[l1[i]]=parent1_[i]\n",
        "    return p_,parent2_,l1,l2\n",
        "  elif D1>D2:\n",
        "    random.shuffle(l2)\n",
        "    p_=population_[skill_factor.index(skill_factor_1)]\n",
        "    for i in range(D2):\n",
        "      p_[l2[i]]=parent2_[i]\n",
        "    return parent1_,p_,l1,l2\n",
        "  else:\n",
        "    return parent1_,parent2_,l1,l2"
      ],
      "metadata": {
        "id": "jxFq5hbiBtHg"
      },
      "execution_count": null,
      "outputs": []
    },
    {
      "cell_type": "code",
      "source": [
        "def re_transfer(o1__,o2__,l1,l2,len1,len2):\n",
        "  if len1>len2:\n",
        "    o2_=[None]*len2\n",
        "    for i in range(len(l1)):\n",
        "      o2_[l2[i]]=o2__[i]\n",
        "    return o1__,o2_\n",
        "  elif len1<len2:\n",
        "    o1_=[None]*len1\n",
        "    for i in range(len(l2)):\n",
        "      o1_[l1[i]]=o1__[i]\n",
        "    return o1_,o2__\n",
        "  else:\n",
        "    return o1__,o2__"
      ],
      "metadata": {
        "id": "NCdVgy22Qijx"
      },
      "execution_count": null,
      "outputs": []
    },
    {
      "cell_type": "code",
      "source": [
        "def assortative_mating(p1,p2, skill_factor1,skill_factor2):\n",
        "    rmp=0.3\n",
        "    rnd = np.random.rand(1)[0]\n",
        "    if skill_factor1== skill_factor2 or rnd < rmp:\n",
        "      o1,o2=crossover(p1,p2);\n",
        "      random_skill_factor = np.random.rand(1)[0]\n",
        "      if random_skill_factor < 0.5:\n",
        "        return o1,o2,skill_factor1,skill_factor1\n",
        "      else:\n",
        "        return o1,o2,skill_factor2,skill_factor2\n",
        "    else:\n",
        "        o1= p1.copy()\n",
        "        o2 = p2.copy()\n",
        "        o1=mutation(o1,0.1,0.1);\n",
        "        o2=mutation(o2,0.1,0.1);\n",
        "        return o1,o2,skill_factor1,skill_factor2"
      ],
      "metadata": {
        "id": "A02uH0veag3q"
      },
      "execution_count": null,
      "outputs": []
    },
    {
      "cell_type": "code",
      "source": [
        "def update_scalar_fitness(population, s):\n",
        "    ackley_pop = population[np.where(s == 0)[0]]\n",
        "    rank1 = rank_ackley(ackley_pop)\n",
        "    scalar_fitness_ackley = [1/(i+1) for i in rank1]\n",
        "\n",
        "    sphere_pop = population[np.where(s == 1)[0]]\n",
        "    rank2 = rank_sphere(sphere_pop)\n",
        "    scalar_fitness_sphere = [1/(i+1) for i in rank2]\n",
        "    scalar_fitness = np.random.rand(population.shape[0])\n",
        "    scalar_fitness[np.where(s == 0)[0]] = scalar_fitness_ackley\n",
        "    scalar_fitness[np.where(s == 1)[0]] = scalar_fitness_sphere\n",
        "    resize=len(scalar_fitness)-population_size\n",
        "    filter_indices = np.argsort(scalar_fitness)[:resize]\n",
        "    fittest_pop = np.delete(population, filter_indices, axis=0)\n",
        "    fittest_skill_factor = np.delete(s, filter_indices)\n",
        "    return fittest_pop, fittest_skill_factor\n"
      ],
      "metadata": {
        "id": "Y4M3FQShepyW"
      },
      "execution_count": null,
      "outputs": []
    },
    {
      "cell_type": "code",
      "source": [
        "def GMFEAs(NP):\n",
        "  population_=[]\n",
        "  d_k_ackley=0;\n",
        "  d_k_sphere=0\n",
        "  frequency=int(0.02*maxgen)\n",
        "  threshold=int(0.1*maxgen)\n",
        "  population=initialize_population(NP,dimension_max)\n",
        "  skill_factor=evalution(population)\n",
        "  for i in range(maxgen):\n",
        "    population_,d_k_ackley,d_k_sphere=translate(i+1,maxgen,population,frequency,threshold,skill_factor,d_k_ackley,d_k_sphere)\n",
        "    offspring=[]\n",
        "    skill_factor_offspring=[]\n",
        "    for j in range(int(NP/2)):\n",
        "       random_indices = np.random.choice(np.arange(len(population_)), size=2, replace=False)\n",
        "       p1_,p2_=population_[random_indices[0]],population_[random_indices[1]]\n",
        "       p1__,p2__,l1,l2=shuffle(p1_,p2_,population_,skill_factor,skill_factor[random_indices[0]],skill_factor[random_indices[1]])\n",
        "       o1__,o2__,skill_factor1,skill_factor2=assortative_mating(p1__,p2__,skill_factor[random_indices[0]],skill_factor[random_indices[1]])\n",
        "       o1_,o2_=re_transfer(o1__,o2__,l1,l2,len(p1_),len(p2_))\n",
        "       if(skill_factor1==0):\n",
        "        o1=o1_-d_k_ackley\n",
        "       else:\n",
        "        o1=o1_-d_k_sphere\n",
        "       if(skill_factor2==0):\n",
        "        o2=o2_-d_k_ackley\n",
        "       else:\n",
        "        o2=o2_-d_k_sphere\n",
        "       offspring.append(o1)\n",
        "       offspring.append(o2)\n",
        "       skill_factor_offspring.append(skill_factor1)\n",
        "       skill_factor_offspring.append(skill_factor2)\n",
        "    intermediate_pop = np.vstack((population, offspring))\n",
        "    intermediate_skill_factor = np.concatenate((skill_factor,skill_factor_offspring))\n",
        "    population, skill_factor = update_scalar_fitness(intermediate_pop, intermediate_skill_factor)\n",
        "  ackley_pop = population[np.where(skill_factor == 0)[0]]\n",
        "  sphere_pop = population[np.where(skill_factor == 1)[0]]\n",
        "  print(\"Ackley: \", cost_ackley(ackley_pop).min())\n",
        "  print(\"Sphere: \", cost_sphere(sphere_pop).min())"
      ],
      "metadata": {
        "id": "rJegrLkQdx8m"
      },
      "execution_count": null,
      "outputs": []
    },
    {
      "cell_type": "code",
      "source": [
        "GMFEAs(population_size)"
      ],
      "metadata": {
        "colab": {
          "base_uri": "https://localhost:8080/"
        },
        "id": "CPZ8rXnAg6Dh",
        "outputId": "d5e3e03c-706d-4721-bbf5-5d57a011100f"
      },
      "execution_count": null,
      "outputs": [
        {
          "output_type": "stream",
          "name": "stdout",
          "text": [
            "Ackley:  0.0020970746205191126\n",
            "Sphere:  6.59712783601495e-06\n"
          ]
        }
      ]
    }
  ]
}